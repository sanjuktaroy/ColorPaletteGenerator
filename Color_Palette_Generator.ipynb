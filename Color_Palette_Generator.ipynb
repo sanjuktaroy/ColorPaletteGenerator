{
  "nbformat": 4,
  "nbformat_minor": 0,
  "metadata": {
    "colab": {
      "provenance": [],
      "gpuType": "T4",
      "authorship_tag": "ABX9TyOoxp/PVvfymBK1hvL1+quo"
    },
    "kernelspec": {
      "name": "python3",
      "display_name": "Python 3"
    },
    "language_info": {
      "name": "python"
    },
    "accelerator": "GPU"
  },
  "cells": [
    {
      "cell_type": "code",
      "source": [
        "from scipy.cluster.vq import kmeans\n",
        "import pandas as pd\n",
        "from scipy.cluster.vq import whiten\n",
        "from matplotlib import pyplot as plt\n",
        "from matplotlib import image as img"
      ],
      "metadata": {
        "id": "BFdIg4keidgB"
      },
      "execution_count": 1,
      "outputs": []
    },
    {
      "cell_type": "code",
      "source": [
        "image = img.imread('img3.jpg')"
      ],
      "metadata": {
        "id": "wGqbMlo3igBC"
      },
      "execution_count": 21,
      "outputs": []
    },
    {
      "cell_type": "code",
      "source": [
        "#constructing a dataframe\n",
        "df = pd.DataFrame()\n",
        "df['r']=pd.Series(image[:,:,0].flatten())\n",
        "df['g']=pd.Series(image[:,:,1].flatten())\n",
        "df['b']=pd.Series(image[:,:,2].flatten())"
      ],
      "metadata": {
        "id": "5HQ6tbWDi1oe"
      },
      "execution_count": 22,
      "outputs": []
    },
    {
      "cell_type": "code",
      "source": [
        "#whitening\n",
        "df['r_whiten'] = whiten(df['r'])\n",
        "df['g_whiten'] = whiten(df['g'])\n",
        "df['b_whiten'] = whiten(df['b'])\n",
        "cluster_centers, distortion = kmeans(df[['r_whiten', 'g_whiten', 'b_whiten']],5)"
      ],
      "metadata": {
        "id": "rAsjxV_-i8XO"
      },
      "execution_count": 23,
      "outputs": []
    },
    {
      "cell_type": "code",
      "source": [
        "r_std, g_std, b_std = df[['r', 'g', 'b']].std()\n",
        "colors=[]\n",
        "for color in cluster_centers:\n",
        "    sr, sg, sb = color\n",
        "    colors.append((int(sr*r_std), int(sg*g_std), int(sb*b_std)))\n",
        "plt.imshow([colors])\n",
        "plt.axis('off')\n",
        "plt.show()"
      ],
      "metadata": {
        "colab": {
          "base_uri": "https://localhost:8080/",
          "height": 136
        },
        "id": "gouiba-gjCYb",
        "outputId": "d273b1b6-82ee-4c2c-ac59-485fbf2f0246"
      },
      "execution_count": 24,
      "outputs": [
        {
          "output_type": "display_data",
          "data": {
            "text/plain": [
              "<Figure size 640x480 with 1 Axes>"
            ],
            "image/png": "[encoded data removed]"
          },
          "metadata": {}
        }
      ]
    },
    {
      "cell_type": "code",
      "source": [],
      "metadata": {
        "id": "JijIK2teODzP"
      },
      "execution_count": null,
      "outputs": []
    }
  ]
}